{
  "nbformat": 4,
  "nbformat_minor": 0,
  "metadata": {
    "colab": {
      "name": "anime-voice-remove.ipynb",
      "provenance": [],
      "collapsed_sections": [
        "jA2akQFRR-8F",
        "yZJkrKBrVPv-",
        "24QEGvIOhOzs",
        "wOBFxyQqi9eb"
      ],
      "authorship_tag": "ABX9TyO339sG3YhFR6pjMzgGaiIV",
      "include_colab_link": true
    },
    "kernelspec": {
      "display_name": "Python 3",
      "name": "python3"
    },
    "language_info": {
      "name": "python"
    }
  },
  "cells": [
    {
      "cell_type": "markdown",
      "metadata": {
        "id": "view-in-github",
        "colab_type": "text"
      },
      "source": [
        "<a href=\"https://colab.research.google.com/github/pj-mathematician/anime-voice-remover/blob/main/anime_voice_remove.ipynb\" target=\"_parent\"><img src=\"https://colab.research.google.com/assets/colab-badge.svg\" alt=\"Open In Colab\"/></a>"
      ]
    },
    {
      "cell_type": "markdown",
      "metadata": {
        "id": "jA2akQFRR-8F"
      },
      "source": [
        "## Downloading and getting the master audio file"
      ]
    },
    {
      "cell_type": "markdown",
      "metadata": {
        "id": "tBAGoLpZTDOM"
      },
      "source": [
        "Installing kurby anime downloader and downloading Gintama episode 10 (watch Gintama its really good)"
      ]
    },
    {
      "cell_type": "code",
      "metadata": {
        "id": "bcX4oO0VP77r"
      },
      "source": [
        "!pip install -q kurby\n",
        "!kurby download --nfrom 10 --nto 10 gintama"
      ],
      "execution_count": null,
      "outputs": []
    },
    {
      "cell_type": "code",
      "metadata": {
        "id": "574wgjSwTlGH"
      },
      "source": [
        "!ffmpeg -i \"/content/Gintama/Gintama-S00-E010.mp4\" -q:a 0 -map a master.wav"
      ],
      "execution_count": null,
      "outputs": []
    },
    {
      "cell_type": "code",
      "metadata": {
        "id": "jCDF2X_4X5qQ"
      },
      "source": [
        "!ffmpeg -ss 300 -i master.wav -t 20 \"mastertemp.mp3\""
      ],
      "execution_count": null,
      "outputs": []
    },
    {
      "cell_type": "code",
      "metadata": {
        "id": "_6HHCl7gYaBN"
      },
      "source": [
        "from IPython.display import Audio\n",
        "Audio(\"mastertemp.mp3\")"
      ],
      "execution_count": null,
      "outputs": []
    },
    {
      "cell_type": "markdown",
      "metadata": {
        "id": "yZJkrKBrVPv-"
      },
      "source": [
        "# pydub"
      ]
    },
    {
      "cell_type": "code",
      "metadata": {
        "id": "mMQpnDsGVnnA"
      },
      "source": [
        "!pip install -q pydub"
      ],
      "execution_count": null,
      "outputs": []
    },
    {
      "cell_type": "code",
      "metadata": {
        "id": "6qLqOieRWEGY"
      },
      "source": [
        "from pydub import AudioSegment\n",
        "from pydub.playback import play\n",
        "\n",
        "# read in audio file and get the two mono tracks\n",
        "sound_stereo = AudioSegment.from_file(\"/content/master.wav\", format=\"wav\")\n",
        "sound_monoL = sound_stereo.split_to_mono()[0]\n",
        "sound_monoR = sound_stereo.split_to_mono()[1]\n",
        "\n",
        "# Invert phase of the Right audio file\n",
        "sound_monoR_inv = sound_monoR.invert_phase()\n",
        "\n",
        "# Merge two L and R_inv files, this cancels out the centers\n",
        "sound_CentersOut = sound_monoL.overlay(sound_monoR_inv)\n",
        "\n",
        "# Export merged audio file\n",
        "fh = sound_CentersOut.export(\"pydubaudio.mp3\", format=\"mp3\")\n",
        "#fh2 = sound_monoL.export(\"test.mp3\", format=\"mp3\")"
      ],
      "execution_count": null,
      "outputs": []
    },
    {
      "cell_type": "code",
      "metadata": {
        "id": "k6_VDrcQXvF9"
      },
      "source": [
        "!ffmpeg -ss 300 -i pydubaudio.mp3 -t 20 \"pydubaudiotemp.mp3\""
      ],
      "execution_count": null,
      "outputs": []
    },
    {
      "cell_type": "code",
      "metadata": {
        "id": "v0Dh3eveY_YB"
      },
      "source": [
        "from IPython.display import Audio\n",
        "Audio(\"pydubaudiotemp.mp3\")"
      ],
      "execution_count": null,
      "outputs": []
    },
    {
      "cell_type": "markdown",
      "metadata": {
        "id": "24QEGvIOhOzs"
      },
      "source": [
        "# sox *oops*"
      ]
    },
    {
      "cell_type": "code",
      "metadata": {
        "id": "02MnpwphhW-H"
      },
      "source": [
        "!apt install sox"
      ],
      "execution_count": null,
      "outputs": []
    },
    {
      "cell_type": "code",
      "metadata": {
        "id": "P1P9efYVhcZl"
      },
      "source": [
        "!sox master.wav soxaudio.wav oops"
      ],
      "execution_count": null,
      "outputs": []
    },
    {
      "cell_type": "code",
      "metadata": {
        "id": "yZdNUg5uhrGg"
      },
      "source": [
        "!ffmpeg -ss 300 -i soxaudio.wav -t 20 \"soxaudiotemp.mp3\""
      ],
      "execution_count": null,
      "outputs": []
    },
    {
      "cell_type": "code",
      "metadata": {
        "id": "iPWM3sWxhxw2"
      },
      "source": [
        "from IPython.display import Audio\n",
        "Audio(\"soxaudiotemp.mp3\")"
      ],
      "execution_count": null,
      "outputs": []
    },
    {
      "cell_type": "markdown",
      "metadata": {
        "id": "wOBFxyQqi9eb"
      },
      "source": [
        "# spleeter"
      ]
    },
    {
      "cell_type": "code",
      "metadata": {
        "id": "3zHz1cTejG8A"
      },
      "source": [
        "!pip install -q spleeter"
      ],
      "execution_count": null,
      "outputs": []
    },
    {
      "cell_type": "code",
      "metadata": {
        "id": "2LclnN2NpfOo"
      },
      "source": [
        "!$(ffprobe -i master.wav -show_entries format=duration -v quiet -of csv=\"p=0\")"
      ],
      "execution_count": null,
      "outputs": []
    },
    {
      "cell_type": "code",
      "metadata": {
        "id": "CsVz3HuXjTJF"
      },
      "source": [
        "!spleeter separate -p spleeter:2stems -o output master.wav -d $(ffprobe -i master.wav -show_entries format=duration -v quiet -of csv=\"p=0\")"
      ],
      "execution_count": null,
      "outputs": []
    },
    {
      "cell_type": "code",
      "metadata": {
        "id": "LpngROUDjaM6"
      },
      "source": [
        "!ffmpeg -ss 300 -i \"/content/output/master/accompaniment.wav\" -t 20 \"spleeteraudiotemp.mp3\""
      ],
      "execution_count": null,
      "outputs": []
    },
    {
      "cell_type": "code",
      "metadata": {
        "id": "ILgX13BVj0I-"
      },
      "source": [
        "from IPython.display import Audio\n",
        "Audio(\"spleeteraudiotemp.mp3\")"
      ],
      "execution_count": null,
      "outputs": []
    },
    {
      "cell_type": "markdown",
      "metadata": {
        "id": "wJNEBDUWTGPA"
      },
      "source": [
        "# Tsurumeso's vocal remover"
      ]
    },
    {
      "cell_type": "code",
      "metadata": {
        "id": "Hm8mydq9KVOZ"
      },
      "source": [
        "from google.colab import drive\n",
        "drive.mount('/content/drive')"
      ],
      "execution_count": null,
      "outputs": []
    },
    {
      "cell_type": "code",
      "metadata": {
        "id": "N3Avv3tecnoY"
      },
      "source": [
        "!ffmpeg -i \"/content/drive/MyDrive/audio/master_Instruments.wav\" -acodec libmp3lame master.mp3"
      ],
      "execution_count": null,
      "outputs": []
    },
    {
      "cell_type": "code",
      "metadata": {
        "id": "Fpex765Nc8nr"
      },
      "source": [
        "!ls -sh"
      ],
      "execution_count": null,
      "outputs": []
    },
    {
      "cell_type": "code",
      "metadata": {
        "id": "Z9SJ-Dl6XMI8"
      },
      "source": [
        "!wget https://github.com/tsurumeso/vocal-remover/releases/download/v4.0.0/vocal-remover-v4.0.0.zip"
      ],
      "execution_count": null,
      "outputs": []
    },
    {
      "cell_type": "code",
      "metadata": {
        "id": "IeJW49l3XP2-"
      },
      "source": [
        "!unzip -u /content/vocal-remover-v4.0.0.zip "
      ],
      "execution_count": null,
      "outputs": []
    },
    {
      "cell_type": "code",
      "metadata": {
        "id": "P6T7p2XiUZEs"
      },
      "source": [
        "!cd vocal-remover && pip install -r requirements.txt"
      ],
      "execution_count": null,
      "outputs": []
    },
    {
      "cell_type": "code",
      "metadata": {
        "id": "pFnHDK8vUpze"
      },
      "source": [
        "!cd vocal-remover && python inference.py --input /content/master.wav --tta --postprocess "
      ],
      "execution_count": null,
      "outputs": []
    },
    {
      "cell_type": "code",
      "metadata": {
        "id": "9OJaqPenLMIE"
      },
      "source": [
        "!cp /content/vocal-remover/master_Instruments.wav /content/drive/MyDrive/audio"
      ],
      "execution_count": null,
      "outputs": []
    },
    {
      "cell_type": "code",
      "metadata": {
        "colab": {
          "background_save": true
        },
        "id": "6bhLXBFAX3fC"
      },
      "source": [
        "from IPython.display import Audio\n",
        "Audio(\"/content/vocal-remover/mastertemp_Instruments.wav\")"
      ],
      "execution_count": null,
      "outputs": []
    },
    {
      "cell_type": "markdown",
      "metadata": {
        "id": "83mgNIsXcNBd"
      },
      "source": [
        "# UVR"
      ]
    },
    {
      "cell_type": "code",
      "metadata": {
        "id": "umVbFQFbcih1"
      },
      "source": [
        "!wget https://github.com/Anjok07/ultimatevocalremovergui/archive/refs/tags/5.0.0.zip"
      ],
      "execution_count": null,
      "outputs": []
    },
    {
      "cell_type": "code",
      "metadata": {
        "id": "ZUlrUYZKeNrd"
      },
      "source": [
        "!cd /content/ultimatevocalremovergui-5.0.0/models && wget https://github.com/Anjok07/ultimatevocalremovergui/releases/download/5.0.2/v5_July_2021_5_Models.zip"
      ],
      "execution_count": null,
      "outputs": []
    },
    {
      "cell_type": "code",
      "metadata": {
        "id": "5VlmZgCSee8-"
      },
      "source": [
        "!cd /content/ultimatevocalremovergui-5.0.0 && unzip /content/ultimatevocalremovergui-5.0.0/models/v5_July_2021_5_Models.zip"
      ],
      "execution_count": null,
      "outputs": []
    },
    {
      "cell_type": "code",
      "metadata": {
        "id": "b15YtK1dcpQ-"
      },
      "source": [
        "!unzip /content/5.0.0.zip"
      ],
      "execution_count": null,
      "outputs": []
    },
    {
      "cell_type": "code",
      "metadata": {
        "id": "8fsg-2LjcRJe"
      },
      "source": [
        "!cd ultimatevocalremovergui-5.0.0 && python inference.py -m /content/ultimatevocalremovergui-5.0.0/2band_32000.json -P  "
      ],
      "execution_count": null,
      "outputs": []
    }
  ]
}